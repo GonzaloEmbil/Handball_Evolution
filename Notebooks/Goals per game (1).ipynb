{
  "metadata": {
    "kernelspec": {
      "name": "python",
      "display_name": "Python (Pyodide)",
      "language": "python"
    },
    "language_info": {
      "codemirror_mode": {
        "name": "python",
        "version": 3
      },
      "file_extension": ".py",
      "mimetype": "text/x-python",
      "name": "python",
      "nbconvert_exporter": "python",
      "pygments_lexer": "ipython3",
      "version": "3.8"
    }
  },
  "nbformat_minor": 5,
  "nbformat": 4,
  "cells": [
    {
      "id": "8123071d-2640-4574-b46e-ffe486207e60",
      "cell_type": "code",
      "source": "import numpy as np\nimport matplotlib.pyplot as plt\n\n# Datos \nx = np.array([2024, 2020, 2016, 2012, 2008, 2004, 2000, 1996, 1992, 1988, 1984, 1980])\ny = np.array([58.45, 58, 54.76, 51.92, 54.62, 53.52, 51.18, 47.95, 42.53, 43.22, 41.72, 43.33])\n\n# Gráfico\nfig, ax = plt.subplots(figsize=(35,15), facecolor='#001432')\nax.set_facecolor('#191c15')\n\n# Grid\nplt.grid(axis='y', alpha=1, linewidth=0.4, color='white', zorder=0)\n\n# Barras\np1= plt.bar(x, y, width = 2.75, color='aqua', alpha= 1, zorder=3)\n\n# Etiquetas de barras\nfor bar in p1:\n    plt.text(bar.get_x() + bar.get_width() / 2, bar.get_height() + 1,\n             f'{bar.get_height():.2f}', ha='center', va='bottom', fontsize=30, color='white', weight='bold')\n\n# Ejes\nplt.yticks(np.arange(0, 66, 5))\nplt.xticks([2024, 2020, 2016, 2012, 2008, 2004, 2000, 1996, 1992, 1988, 1984, 1980])\nplt.tick_params(labelsize=25)\n\n# Label\nax.tick_params(colors='white', length=15, width=1.5, which='both')\n\n# Bordes\nfor axis in ['bottom', 'top', 'left', 'right']:\n  ax.spines[axis].set_color('white')\n  ax.spines[axis].set_linewidth(3)\n  ax.spines[axis].set_zorder(5)\n\n# Texto\nfig.text(0.5,0.91, \"Goals per game on Men's Handball Olympic Games (1980-2024)\", ha='center', va='center', fontsize=40, color='white', weight='bold')\nfig.text(0.2, 0.03, 'Source: IHF (1980-2024)', ha='center', va='center', fontsize=30, color='white')\nfig.text(0.513, 0.03, 'Years', ha='center', va='center', fontsize=30, color='white', weight='bold')\nfig.text(0.8, 0.03, 'Graphic: Gonzalo Martínez Embil', ha='center', va='center', fontsize=30, color='white')\nfig.text(0.09, 0.5, 'Average goals per game', rotation=90, ha='center', va='center', fontsize=30, color='white', weight='bold')\n\n# Leyenda\nlegend = ax.legend(['Cumulative growth: 34.89%'], borderaxespad=1, loc='upper left', fontsize=25, facecolor='#001432', edgecolor='white', borderpad=0.8)\nfor text in legend.get_texts():\n    text.set_fontweight(\"bold\")\n    text.set_color(\"white\")\n    text.set_fontsize(25)\n    \nfig.savefig(\"Goals per game on Men's Handball Olympic Games (1980-2024)\", dpi=200, bbox_inches='tight', pad_inches=1)\n\nplt.show()",
      "metadata": {
        "trusted": true,
        "tags": [],
        "editable": true,
        "slideshow": {
          "slide_type": ""
        }
      },
      "outputs": [],
      "execution_count": null
    },
    {
      "id": "8c99c8ba-0005-47cb-84e2-a74aa68c1896",
      "cell_type": "code",
      "source": "",
      "metadata": {
        "trusted": true
      },
      "outputs": [],
      "execution_count": null
    }
  ]
}